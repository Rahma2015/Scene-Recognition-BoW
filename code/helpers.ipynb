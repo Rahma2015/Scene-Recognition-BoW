{
 "cells": [
  {
   "cell_type": "code",
   "execution_count": 2,
   "metadata": {},
   "outputs": [],
   "source": [
    "import os\n",
    "import glob\n",
    "\n",
    "\n",
    "def get_image_paths(data_path, categories, num_train_per_cat):\n",
    "    \"\"\"\n",
    "    This function returns lists containing the file path for each train\n",
    "    and test image, as well as lists with the label of each train and\n",
    "    test image. By default both lists will be 1500x1, where each\n",
    "    entry is a char array (or string).\n",
    "    \"\"\"\n",
    "\n",
    "    num_categories = len(categories)  # number of scene categories.\n",
    "\n",
    "    # This paths for each training and test image. By default it will have 1500\n",
    "    # entries (15 categories * 100 training and test examples each)\n",
    "    train_image_paths = [None] * (num_categories * num_train_per_cat)\n",
    "    test_image_paths = [None] * (num_categories * num_train_per_cat)\n",
    "\n",
    "    # The name of the category for each training and test image. With the\n",
    "    # default setup, these arrays will actually be the same, but they are built\n",
    "    # independently for clarity and ease of modification.\n",
    "    train_labels = [None] * (num_categories * num_train_per_cat)\n",
    "    test_labels = [None] * (num_categories * num_train_per_cat)\n",
    "\n",
    "    for i, cat in enumerate(categories):\n",
    "        images = glob.glob(os.path.join(data_path, 'train', cat, '*.jpg'))\n",
    "\n",
    "        for j in range(num_train_per_cat):\n",
    "            train_image_paths[i * num_train_per_cat + j] = images[j]\n",
    "            train_labels[i * num_train_per_cat + j] = cat\n",
    "\n",
    "        images = glob.glob(os.path.join(data_path, 'test', cat, '*.jpg'))\n",
    "        for j in range(num_train_per_cat):\n",
    "            test_image_paths[i * num_train_per_cat + j] = images[j]\n",
    "            test_labels[i * num_train_per_cat + j] = cat\n",
    "\n",
    "    return train_image_paths, test_image_paths, train_labels, test_labels\n"
   ]
  },
  {
   "cell_type": "code",
   "execution_count": null,
   "metadata": {},
   "outputs": [],
   "source": []
  }
 ],
 "metadata": {
  "kernelspec": {
   "display_name": "Python 3",
   "language": "python",
   "name": "python3"
  },
  "language_info": {
   "codemirror_mode": {
    "name": "ipython",
    "version": 3
   },
   "file_extension": ".py",
   "mimetype": "text/x-python",
   "name": "python",
   "nbconvert_exporter": "python",
   "pygments_lexer": "ipython3",
   "version": "3.7.6"
  }
 },
 "nbformat": 4,
 "nbformat_minor": 4
}
